{
  "cells": [
    {
      "cell_type": "markdown",
      "metadata": {},
      "source": [
        "[![Open In Colab](https://colab.research.google.com/assets/colab-badge.svg)](https://colab.research.google.com/github/ogunlao/saint/blob/main/notebooks/Income_Dataset.ipynb)"
      ]
    },
    {
      "cell_type": "markdown",
      "metadata": {
        "id": "l7H4VC_zdczl"
      },
      "source": [
        "# Cloning the repo & installing requirements"
      ]
    },
    {
      "cell_type": "code",
      "execution_count": null,
      "metadata": {
        "id": "DMVBBekObwq_"
      },
      "outputs": [],
      "source": [
        "!git clone https://github.com/ogunlao/saint.git"
      ]
    },
    {
      "cell_type": "code",
      "execution_count": null,
      "metadata": {
        "id": "Y7O-jzWDboaR"
      },
      "outputs": [],
      "source": [
        "import pandas as pd\n",
        "import numpy as np"
      ]
    },
    {
      "cell_type": "code",
      "execution_count": null,
      "metadata": {
        "colab": {
          "base_uri": "https://localhost:8080/",
          "height": 1000
        },
        "id": "hmh4bpsVxrHK",
        "outputId": "2b99d426-db52-40f6-ef4b-39a2a8c97599"
      },
      "outputs": [],
      "source": [
        "!pip3 install -r '/content/saint/requirements.txt' "
      ]
    },
    {
      "cell_type": "markdown",
      "metadata": {
        "id": "Pidcp7qOdTgs"
      },
      "source": [
        "#Reading the data"
      ]
    },
    {
      "cell_type": "markdown",
      "metadata": {},
      "source": [
        "You will need to download the \"income\" dataset (from kaggle), to follow this tutorial"
      ]
    },
    {
      "cell_type": "code",
      "execution_count": null,
      "metadata": {
        "id": "P7OimR_n98NJ"
      },
      "outputs": [],
      "source": [
        "train = pd.read_csv('/content/data/train.csv')\n",
        "\n",
        "# reading test data for predictions\n",
        "test = pd.read_csv('/content/data/test.csv')"
      ]
    },
    {
      "cell_type": "code",
      "execution_count": null,
      "metadata": {
        "colab": {
          "base_uri": "https://localhost:8080/"
        },
        "id": "QsC0dkxg_oBX",
        "outputId": "0ed41d75-3ffa-4841-96f2-c3cf5106fc37"
      },
      "outputs": [],
      "source": [
        "train.columns"
      ]
    },
    {
      "cell_type": "markdown",
      "metadata": {
        "id": "mkd7aBwSc3Ll"
      },
      "source": [
        "# custom preprocessing"
      ]
    },
    {
      "cell_type": "code",
      "execution_count": null,
      "metadata": {
        "id": "f2OlQgEEp8kF"
      },
      "outputs": [],
      "source": [
        "train_y = train[['income_>50K']]\n",
        "train = train.drop(columns='income_>50K')"
      ]
    },
    {
      "cell_type": "code",
      "execution_count": null,
      "metadata": {
        "id": "-Ey4fw8KZ0si"
      },
      "outputs": [],
      "source": [
        "#concat train and test to preprocess\n",
        "df = pd.concat([train, test])\n"
      ]
    },
    {
      "cell_type": "code",
      "execution_count": null,
      "metadata": {
        "id": "DPw1Ixz6ebQd"
      },
      "outputs": [],
      "source": [
        "from sklearn import preprocessing\n",
        "def preprocess(data, cls_token_idx):\n",
        "    \"\"\"\n",
        "    preprocess: function\n",
        "        this is a function that process the features\n",
        "        and return the:\n",
        "        - the processed data in the order of [cls, categorical features, numerical_features]\n",
        "        - number of numerical features\n",
        "        - number of categorical features\n",
        "        - list of cat_len length describes the \n",
        "        number of catogeries in each catogrical column \n",
        "    \"\"\"\n",
        "    # copying the data\n",
        "    data = data.copy()\n",
        "\n",
        "    # adding the cls token to beginning of data\n",
        "    data.insert(loc=cls_token_idx, column='cls', value='cls')\n",
        "\n",
        "    cat_cols = data.select_dtypes(include=['object', 'category']).columns\n",
        "    num_cols = [col for col in data.columns if col not in cat_cols]\n",
        "\n",
        "    # z-transform and add missing value token\n",
        "    num_data = data[num_cols]\n",
        "    num_data = (num_data-num_data.mean())/num_data.std()\n",
        "    # num_data = (num_data-num_data.min())/(num_data.max() - num_data.min()) min-max scaling\n",
        "    cat_data = data[cat_cols]\n",
        "    \n",
        "    # fill missing\n",
        "    num_data = num_data.fillna(-99999)\n",
        "    cat_data[pd.isnull(cat_data)]  = 'NaN'\n",
        "\n",
        "    # label encoding \n",
        "    labelencode = preprocessing.LabelEncoder()\n",
        "    cat_data = cat_data.apply(labelencode.fit_transform)\n",
        "\n",
        "    # cat columns come first\n",
        "    new_data = pd.concat([cat_data.astype(np.int32), num_data.astype(np.float32)], axis=1)\n",
        "\n",
        "    \n",
        "        \n",
        "    cats = []\n",
        "\n",
        "    for cat in cat_data.columns:\n",
        "        cats.append(len(pd.unique(new_data[cat])))\n",
        "\n",
        "    return new_data, len(num_data.columns), len(cat_data.columns), cats"
      ]
    },
    {
      "cell_type": "code",
      "execution_count": null,
      "metadata": {
        "colab": {
          "base_uri": "https://localhost:8080/"
        },
        "id": "4dDi5fjVjSTm",
        "outputId": "4e8be076-d1c0-4450-c2e9-c806911aa060"
      },
      "outputs": [],
      "source": [
        "processed_data, nums, cats, _= preprocess(df,cls_token_idx=0)"
      ]
    },
    {
      "cell_type": "code",
      "execution_count": null,
      "metadata": {
        "colab": {
          "base_uri": "https://localhost:8080/"
        },
        "id": "vyhteZHbKy5q",
        "outputId": "7d4a7653-7de7-41c4-e650-f07ab9f1f549"
      },
      "outputs": [],
      "source": [
        "#chech catogrical and numerical data\n",
        "nums,cats,_"
      ]
    },
    {
      "cell_type": "markdown",
      "metadata": {
        "id": "IrVwIjxkjJuU"
      },
      "source": [
        "# splitting dataset"
      ]
    },
    {
      "cell_type": "code",
      "execution_count": null,
      "metadata": {
        "id": "spSC124GjBPt"
      },
      "outputs": [],
      "source": [
        "def generate_splits(dataset_size,\n",
        "                      validation_split,\n",
        "                      random_seed, shuffle_dataset=True,):\n",
        "    \"\"\"Generate data samplers for supervised and semi-supervised training \"\"\"\n",
        "\n",
        "    # Creating data indices for training and validation splits:\n",
        "    indices = list(range(dataset_size))\n",
        "\n",
        "    split_val = int(validation_split * dataset_size)\n",
        "    \n",
        "    if shuffle_dataset:\n",
        "        np.random.seed(random_seed)\n",
        "        np.random.shuffle(indices)\n",
        "\n",
        "    val_indices = indices[:split_val] \n",
        "    \n",
        "    train_indices = indices[split_val: ]\n",
        "\n",
        "\n",
        "    return train_indices, val_indices"
      ]
    },
    {
      "cell_type": "code",
      "execution_count": null,
      "metadata": {
        "id": "Li6j3FgWfCYu"
      },
      "outputs": [],
      "source": [
        "train=processed_data.iloc[:len(train)]\n",
        "test=processed_data.iloc[len(train):]\n",
        "train_indices,val_indices = generate_splits(len(train),0.25,random_seed=1234)\n",
        "x_train, y_train = train.iloc[train_indices], train_y.iloc[train_indices]\n",
        "x_val, y_val = train.iloc[val_indices], train_y.iloc[val_indices]\n"
      ]
    },
    {
      "cell_type": "code",
      "execution_count": null,
      "metadata": {
        "colab": {
          "base_uri": "https://localhost:8080/"
        },
        "id": "rDnOhzMTUKLd",
        "outputId": "b171434c-58f2-4e01-9b90-1bb49c0d4845"
      },
      "outputs": [],
      "source": [
        "y_train.values[32967]"
      ]
    },
    {
      "cell_type": "markdown",
      "metadata": {
        "id": "9Cuurut7q_WA"
      },
      "source": [
        "# Saving csv files"
      ]
    },
    {
      "cell_type": "code",
      "execution_count": null,
      "metadata": {
        "id": "jfj3NCtrrCNw"
      },
      "outputs": [],
      "source": [
        "x_train.to_csv('/content/saint/data/train.csv', index=False)\n",
        "y_train.to_csv('/content/saint/data/train_y.csv', index=False)\n",
        "x_val.to_csv('/content/saint/data/val.csv', index=False)\n",
        "y_val.to_csv('/content/saint/data/val_y.csv', index=False)\n"
      ]
    },
    {
      "cell_type": "code",
      "execution_count": null,
      "metadata": {
        "colab": {
          "base_uri": "https://localhost:8080/"
        },
        "id": "UiNtjwCXxOn4",
        "outputId": "e37b6fe6-0567-49df-de8f-5e349a8a3153"
      },
      "outputs": [],
      "source": [
        "%cd '/content/saint/'"
      ]
    },
    {
      "cell_type": "code",
      "execution_count": null,
      "metadata": {
        "colab": {
          "base_uri": "https://localhost:8080/"
        },
        "id": "yOPxOQnyww8I",
        "outputId": "cd1d7e46-bf62-4e03-c44f-d8d780008b68"
      },
      "outputs": [],
      "source": [
        "# run this cell to train saint model using config\n",
        "\n",
        "!python main.py --experiment sup --no_cat 9 --no_num 6 "
      ]
    },
    {
      "cell_type": "code",
      "execution_count": null,
      "metadata": {
        "colab": {
          "base_uri": "https://localhost:8080/"
        },
        "id": "aMlhgAglMCDg",
        "outputId": "80f4a40e-0310-454f-9e0b-98ea0c7596d3"
      },
      "outputs": [],
      "source": [
        "!ls /content/saint/checkpoints/lightning_logs/version_0/checkpoints/"
      ]
    }
  ],
  "metadata": {
    "colab": {
      "collapsed_sections": [],
      "name": "SaintExperiments.ipynb",
      "provenance": []
    },
    "kernelspec": {
      "display_name": "Python 3",
      "name": "python3"
    },
    "language_info": {
      "name": "python"
    }
  },
  "nbformat": 4,
  "nbformat_minor": 2
}
